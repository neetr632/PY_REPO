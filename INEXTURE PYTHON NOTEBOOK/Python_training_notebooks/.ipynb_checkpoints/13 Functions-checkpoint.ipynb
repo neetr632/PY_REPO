{
 "cells": [
  {
   "cell_type": "markdown",
   "metadata": {},
   "source": [
    "# What is function?"
   ]
  },
  {
   "cell_type": "markdown",
   "metadata": {},
   "source": [
    "- A __block__ of __re-usable__ code to perform __specific__ tasks."
   ]
  },
  {
   "cell_type": "markdown",
   "metadata": {},
   "source": [
    "# signature of a function in python"
   ]
  },
  {
   "cell_type": "markdown",
   "metadata": {},
   "source": [
    "```python\n",
    "def func(arg1, arg2):\n",
    "    # some operation to perform\n",
    "    return something\n",
    "```"
   ]
  },
  {
   "cell_type": "markdown",
   "metadata": {},
   "source": [
    "# in-built functions\n",
    "\n",
    "- Functions that are in-built in python library"
   ]
  },
  {
   "cell_type": "code",
   "execution_count": 1,
   "metadata": {},
   "outputs": [
    {
     "name": "stdout",
     "output_type": "stream",
     "text": [
      "Hello there!\n"
     ]
    }
   ],
   "source": [
    "print(\"Hello there!\")"
   ]
  },
  {
   "cell_type": "code",
   "execution_count": 2,
   "metadata": {},
   "outputs": [
    {
     "name": "stdout",
     "output_type": "stream",
     "text": [
      "asdf\n",
      "asdf\n"
     ]
    }
   ],
   "source": [
    "a = input()\n",
    "print(a)"
   ]
  },
  {
   "cell_type": "code",
   "execution_count": 3,
   "metadata": {},
   "outputs": [
    {
     "name": "stdout",
     "output_type": "stream",
     "text": [
      "3\n"
     ]
    }
   ],
   "source": [
    "a = [1, 2, 3]\n",
    "print(len(a))"
   ]
  },
  {
   "cell_type": "code",
   "execution_count": 4,
   "metadata": {},
   "outputs": [
    {
     "name": "stdout",
     "output_type": "stream",
     "text": [
      "<class 'list'>\n"
     ]
    }
   ],
   "source": [
    "print(type(a))"
   ]
  },
  {
   "cell_type": "code",
   "execution_count": 5,
   "metadata": {},
   "outputs": [
    {
     "name": "stdout",
     "output_type": "stream",
     "text": [
      "5\n",
      "5\n",
      "10\n"
     ]
    }
   ],
   "source": [
    "a = int(input())\n",
    "b = int(input())\n",
    "print(a+b)"
   ]
  },
  {
   "cell_type": "code",
   "execution_count": 8,
   "metadata": {},
   "outputs": [
    {
     "name": "stdout",
     "output_type": "stream",
     "text": [
      "True\n",
      "True\n",
      "True\n",
      "False\n",
      "False\n",
      "False\n",
      "True\n"
     ]
    }
   ],
   "source": [
    "print(bool(1))\n",
    "print(bool(31241324))\n",
    "print(bool('asdfwvr'))\n",
    "print(bool(0))\n",
    "print(bool(None))\n",
    "print(bool(''))\n",
    "print(bool(' '))"
   ]
  },
  {
   "cell_type": "markdown",
   "metadata": {},
   "source": [
    "# User defined functions\n",
    "\n",
    "- Functions created by users, to server a specific need and keep code organised are code user defined functions."
   ]
  },
  {
   "cell_type": "code",
   "execution_count": 10,
   "metadata": {},
   "outputs": [
    {
     "name": "stdout",
     "output_type": "stream",
     "text": [
      "50.24\n",
      "10.56987\n",
      "60.809870000000004\n"
     ]
    }
   ],
   "source": [
    "def add_num(a, b):\n",
    "    print(a+b)\n",
    "\n",
    "\n",
    "a = float(input())\n",
    "b = float(input())\n",
    "add_num(a, b)"
   ]
  },
  {
   "cell_type": "markdown",
   "metadata": {},
   "source": [
    "# Return type of functions\n",
    "\n",
    "- In python we do not specify return type of function.\n",
    "- Any function is free to return anything it wants.\n",
    "- Functions that do not return anything also return None object."
   ]
  },
  {
   "cell_type": "code",
   "execution_count": 13,
   "metadata": {},
   "outputs": [
    {
     "name": "stdout",
     "output_type": "stream",
     "text": [
      "5\n",
      "4\n",
      "9.0\n"
     ]
    }
   ],
   "source": [
    "# naive approach\n",
    "def add_us(a, b):\n",
    "    c = a + b\n",
    "    return c\n",
    "\n",
    "a = float(input())\n",
    "b = float(input())\n",
    "\n",
    "ans = add_us(a, b)\n",
    "\n",
    "print(ans)"
   ]
  },
  {
   "cell_type": "code",
   "execution_count": 14,
   "metadata": {},
   "outputs": [
    {
     "name": "stdout",
     "output_type": "stream",
     "text": [
      "5\n",
      "4\n",
      "9.0\n"
     ]
    }
   ],
   "source": [
    "# better approach\n",
    "def add_us(a, b):\n",
    "    return a + b\n",
    "\n",
    "a = float(input())\n",
    "b = float(input())\n",
    "\n",
    "print(add_us(a, b))"
   ]
  },
  {
   "cell_type": "markdown",
   "metadata": {},
   "source": [
    "- __Function that do return anything RETURNS NONE.__"
   ]
  },
  {
   "cell_type": "code",
   "execution_count": 18,
   "metadata": {},
   "outputs": [
    {
     "name": "stdout",
     "output_type": "stream",
     "text": [
      "I will not return anything\n",
      "This did not return, did it? => None\n"
     ]
    }
   ],
   "source": [
    "def no_return():\n",
    "    print(\"I will not return anything\")\n",
    "    \n",
    "print(f\"This did not return, did it? => {no_return()}\") # It will though"
   ]
  },
  {
   "cell_type": "markdown",
   "metadata": {},
   "source": [
    "# Argument types"
   ]
  },
  {
   "cell_type": "markdown",
   "metadata": {},
   "source": [
    "## Required arguments\n",
    "\n",
    "- Arguments that are must to be passed in a function are called requirement arguments.\n",
    "- If this arguments are not passed then function raises exceptions."
   ]
  },
  {
   "cell_type": "code",
   "execution_count": 2,
   "metadata": {},
   "outputs": [
    {
     "name": "stdout",
     "output_type": "stream",
     "text": [
      "I got all of them!\n",
      "asdf\n",
      "12\n",
      "[1, 2, 3]\n"
     ]
    }
   ],
   "source": [
    "def my_args_are_must(first, second, third):\n",
    "    print(\"I got all of them!\")\n",
    "    print(first)\n",
    "    print(second)\n",
    "    print(third)\n",
    "    \n",
    "my_args_are_must(\"asdf\", 12, [1, 2, 3])"
   ]
  },
  {
   "cell_type": "code",
   "execution_count": 3,
   "metadata": {},
   "outputs": [
    {
     "ename": "TypeError",
     "evalue": "my_args_are_must() missing 1 required positional argument: 'third'",
     "output_type": "error",
     "traceback": [
      "\u001b[0;31m---------------------------------------------------------------------------\u001b[0m",
      "\u001b[0;31mTypeError\u001b[0m                                 Traceback (most recent call last)",
      "\u001b[0;32m<ipython-input-3-093ce1d59874>\u001b[0m in \u001b[0;36m<module>\u001b[0;34m\u001b[0m\n\u001b[0;32m----> 1\u001b[0;31m \u001b[0mmy_args_are_must\u001b[0m\u001b[0;34m(\u001b[0m\u001b[0;36m1\u001b[0m\u001b[0;34m,\u001b[0m \u001b[0;36m3\u001b[0m\u001b[0;34m)\u001b[0m\u001b[0;34m\u001b[0m\u001b[0;34m\u001b[0m\u001b[0m\n\u001b[0m",
      "\u001b[0;31mTypeError\u001b[0m: my_args_are_must() missing 1 required positional argument: 'third'"
     ]
    }
   ],
   "source": [
    "my_args_are_must(1, 3)"
   ]
  },
  {
   "cell_type": "markdown",
   "metadata": {},
   "source": [
    "## Keyword arguments"
   ]
  },
  {
   "cell_type": "code",
   "execution_count": 21,
   "metadata": {},
   "outputs": [
    {
     "name": "stdout",
     "output_type": "stream",
     "text": [
      "first: 1\n",
      "second: 2\n",
      "third: 3\n"
     ]
    }
   ],
   "source": [
    "def call_with_names(first, second, third):\n",
    "    print(f\"first: {first}\")\n",
    "    print(f\"second: {second}\")\n",
    "    print(f\"third: {third}\")\n",
    "    \n",
    "call_with_names(second=2, first=1, third=3) # when you call using arg names order does not matter."
   ]
  },
  {
   "cell_type": "code",
   "execution_count": 4,
   "metadata": {},
   "outputs": [
    {
     "ename": "SyntaxError",
     "evalue": "positional argument follows keyword argument (<ipython-input-4-ca84a2d07aa6>, line 2)",
     "output_type": "error",
     "traceback": [
      "\u001b[0;36m  File \u001b[0;32m\"<ipython-input-4-ca84a2d07aa6>\"\u001b[0;36m, line \u001b[0;32m2\u001b[0m\n\u001b[0;31m    call_with_names(first=1, second=2, 3)\u001b[0m\n\u001b[0m                                      ^\u001b[0m\n\u001b[0;31mSyntaxError\u001b[0m\u001b[0;31m:\u001b[0m positional argument follows keyword argument\n"
     ]
    }
   ],
   "source": [
    "# however, keyword arguments must come after positional arguments.\n",
    "call_with_names(first=1, second=2, 3)"
   ]
  },
  {
   "cell_type": "code",
   "execution_count": 23,
   "metadata": {},
   "outputs": [
    {
     "name": "stdout",
     "output_type": "stream",
     "text": [
      "first: 1\n",
      "second: 2\n",
      "third: 3\n"
     ]
    }
   ],
   "source": [
    "# this is legit\n",
    "call_with_names(1, third=3, second=2)"
   ]
  },
  {
   "cell_type": "markdown",
   "metadata": {},
   "source": [
    "## Default arguments"
   ]
  },
  {
   "cell_type": "markdown",
   "metadata": {},
   "source": [
    "- Default arguments are defined when function is written.\n",
    "- Default arguments must come after non-defaults.\n",
    "- When no argument is provided, then arg will hold the default value.\n",
    "- Useful when you do not want to force caller to specify an argument however it can work with some default value."
   ]
  },
  {
   "cell_type": "code",
   "execution_count": 5,
   "metadata": {},
   "outputs": [
    {
     "name": "stdout",
     "output_type": "stream",
     "text": [
      "\n",
      "first: 1\n",
      "\n",
      "second: 2\n",
      "\n",
      "third: 3\n",
      "\n",
      "zero: 0\n",
      "My value was not changed :|\n",
      "\n",
      "first: 1\n",
      "\n",
      "second: 2\n",
      "\n",
      "third: 3\n",
      "\n",
      "zero: 1\n",
      "I am bigger now :D\n",
      "\n",
      "first: 1\n",
      "\n",
      "second: 2\n",
      "\n",
      "third: 3\n",
      "\n",
      "zero: -1\n",
      "You made me smaller :(\n"
     ]
    }
   ],
   "source": [
    "def i_have_defaults(first, second=2, third=3, zero=0):  # default arguments can not come before non-defaults\n",
    "    \n",
    "    print(f\"\\nfirst: {first}\")\n",
    "    print(f\"\\nsecond: {second}\")\n",
    "    print(f\"\\nthird: {third}\")\n",
    "    print(f\"\\nzero: {zero}\")\n",
    "    \n",
    "    if zero == 0:  # never compare 0 like this, this is for readability as of now\n",
    "        print(\"My value was not changed :|\")\n",
    "        \n",
    "    elif zero > 0:\n",
    "        print(\"I am bigger now :D\")\n",
    "    \n",
    "    else:\n",
    "        print(\"You made me smaller :(\")\n",
    "        \n",
    "i_have_defaults(first=1)\n",
    "i_have_defaults(1, zero=1)\n",
    "i_have_defaults(1, zero=-1)"
   ]
  },
  {
   "cell_type": "markdown",
   "metadata": {},
   "source": [
    "## \\*args and \\*\\*kwargs"
   ]
  },
  {
   "cell_type": "markdown",
   "metadata": {},
   "source": [
    "### \\*args"
   ]
  },
  {
   "cell_type": "markdown",
   "metadata": {},
   "source": [
    "- The __special syntax *args__ in function definitions in python is used to pass a variable number of arguments to a function.\n",
    "- It is used to pass a __non-keyworded, variable-length argument list.__"
   ]
  },
  {
   "cell_type": "code",
   "execution_count": 6,
   "metadata": {},
   "outputs": [
    {
     "name": "stdout",
     "output_type": "stream",
     "text": [
      "type of args: <class 'tuple'>\n",
      "a\n",
      "1\n",
      "(2, 3)\n",
      "[2, 'b']\n",
      "2.14\n"
     ]
    }
   ],
   "source": [
    "def variable_length_args(*args):\n",
    "    \n",
    "    print(f\"type of args: {type(args)}\")\n",
    "    \n",
    "    for arg in args:\n",
    "        print(arg)\n",
    "        \n",
    "variable_length_args('a', 1, (2, 3,), [2, 'b'], 2.14)"
   ]
  },
  {
   "cell_type": "markdown",
   "metadata": {},
   "source": [
    "### \\*\\*kwargs"
   ]
  },
  {
   "cell_type": "markdown",
   "metadata": {},
   "source": [
    "- The __special syntax \\*\\*kwargs__ in function definitions in python is used to pass a __keyworded, variable-length argument list.__\n",
    "- One can __think of the kwargs as being a dictionary__ that maps each keyword to the value that we pass alongside it."
   ]
  },
  {
   "cell_type": "code",
   "execution_count": 7,
   "metadata": {},
   "outputs": [
    {
     "name": "stdout",
     "output_type": "stream",
     "text": [
      "type of kwargs: <class 'dict'>\n",
      "first = a\n",
      "second = 1\n",
      "third = (2, 3)\n",
      "fourth = [2, 'b']\n",
      "fifth = 2.14\n"
     ]
    }
   ],
   "source": [
    "def variable_length_kwargs(**kwargs):\n",
    "    \n",
    "    print(f\"type of kwargs: {type(kwargs)}\")\n",
    "    \n",
    "    for key, value in kwargs.items():\n",
    "        print(f\"{key} = {value}\")\n",
    "        \n",
    "variable_length_kwargs(first='a', second=1, third=(2, 3,), fourth=[2, 'b'], fifth=2.14)"
   ]
  },
  {
   "cell_type": "markdown",
   "metadata": {},
   "source": [
    "#  Lambda Expressions"
   ]
  },
  {
   "cell_type": "markdown",
   "metadata": {},
   "source": [
    "- __Small anonymous__ functions can be created with the __lambda keyword.__\n",
    "- Lambda functions can be used wherever function objects are required.\n",
    "- They are syntactically __restricted to a single expression.__\n",
    "- Semantically, they are __just syntactic sugar__ for a normal function definition."
   ]
  },
  {
   "cell_type": "code",
   "execution_count": 9,
   "metadata": {},
   "outputs": [
    {
     "name": "stdout",
     "output_type": "stream",
     "text": [
      "square of 0 is: 0\n",
      "square of 1 is: 1\n",
      "square of 2 is: 4\n",
      "square of 3 is: 9\n",
      "square of 4 is: 16\n",
      "square of 5 is: 25\n"
     ]
    }
   ],
   "source": [
    "get_my_square = lambda x : x**2\n",
    "\n",
    "print(f\"square of 0 is: {get_my_square(0)}\")\n",
    "print(f\"square of 1 is: {get_my_square(1)}\")\n",
    "print(f\"square of 2 is: {get_my_square(2)}\")\n",
    "print(f\"square of 3 is: {get_my_square(3)}\")\n",
    "print(f\"square of 4 is: {get_my_square(4)}\")\n",
    "print(f\"square of 5 is: {get_my_square(5)}\")"
   ]
  },
  {
   "cell_type": "markdown",
   "metadata": {},
   "source": [
    "- __pass a small function as an argument__"
   ]
  },
  {
   "cell_type": "code",
   "execution_count": 10,
   "metadata": {},
   "outputs": [
    {
     "name": "stdout",
     "output_type": "stream",
     "text": [
      "sorted pairs: [(4, 'four'), (1, 'one'), (3, 'three'), (2, 'two')]\n"
     ]
    }
   ],
   "source": [
    "pairs = [(1, 'one'), (2, 'two'), (3, 'three'), (4, 'four')]\n",
    "pairs.sort(key=lambda pair: pair[1])\n",
    "print(f\"sorted pairs: {pairs}\")"
   ]
  },
  {
   "cell_type": "code",
   "execution_count": null,
   "metadata": {},
   "outputs": [],
   "source": []
  }
 ],
 "metadata": {
  "kernelspec": {
   "display_name": "Python 3 (ipykernel)",
   "language": "python",
   "name": "python3"
  },
  "language_info": {
   "codemirror_mode": {
    "name": "ipython",
    "version": 3
   },
   "file_extension": ".py",
   "mimetype": "text/x-python",
   "name": "python",
   "nbconvert_exporter": "python",
   "pygments_lexer": "ipython3",
   "version": "3.8.10"
  },
  "toc": {
   "base_numbering": 1,
   "nav_menu": {},
   "number_sections": true,
   "sideBar": true,
   "skip_h1_title": false,
   "title_cell": "Table of Contents",
   "title_sidebar": "Contents",
   "toc_cell": false,
   "toc_position": {},
   "toc_section_display": true,
   "toc_window_display": false
  }
 },
 "nbformat": 4,
 "nbformat_minor": 2
}
