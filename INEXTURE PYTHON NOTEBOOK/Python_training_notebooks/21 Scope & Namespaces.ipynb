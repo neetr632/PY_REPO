{
 "cells": [
  {
   "cell_type": "markdown",
   "metadata": {},
   "source": [
    "# Scope"
   ]
  },
  {
   "cell_type": "code",
   "execution_count": 3,
   "metadata": {},
   "outputs": [],
   "source": [
    "dog = \"Ugly street dog\"\n",
    "\n",
    "def home():\n",
    "    dog = \"My sweet pet\"\n",
    "    return dog\n",
    "\n",
    "bark = home()"
   ]
  },
  {
   "cell_type": "markdown",
   "metadata": {},
   "source": [
    "## locals and globals"
   ]
  },
  {
   "cell_type": "code",
   "execution_count": 6,
   "metadata": {},
   "outputs": [
    {
     "data": {
      "text/plain": [
       "'My sweet pet'"
      ]
     },
     "execution_count": 6,
     "metadata": {},
     "output_type": "execute_result"
    }
   ],
   "source": [
    "bark"
   ]
  },
  {
   "cell_type": "code",
   "execution_count": 7,
   "metadata": {},
   "outputs": [
    {
     "data": {
      "text/plain": [
       "'Ugly street dog'"
      ]
     },
     "execution_count": 7,
     "metadata": {},
     "output_type": "execute_result"
    }
   ],
   "source": [
    "dog"
   ]
  },
  {
   "cell_type": "markdown",
   "metadata": {},
   "source": [
    "## System globals"
   ]
  },
  {
   "cell_type": "code",
   "execution_count": 10,
   "metadata": {},
   "outputs": [],
   "source": [
    "dog_has_tail = True"
   ]
  },
  {
   "cell_type": "markdown",
   "metadata": {},
   "source": [
    "## globals"
   ]
  },
  {
   "cell_type": "code",
   "execution_count": 16,
   "metadata": {},
   "outputs": [
    {
     "data": {
      "text/plain": [
       "'White'"
      ]
     },
     "execution_count": 16,
     "metadata": {},
     "output_type": "execute_result"
    }
   ],
   "source": [
    "CAR_COLOR = \"Blue\"\n",
    "\n",
    "def try_to_change_me():\n",
    "    CAR_COLOR = \"White\"\n",
    "    return CAR_COLOR\n",
    "\n",
    "changed_color = try_to_change_me()\n",
    "changed_color"
   ]
  },
  {
   "cell_type": "code",
   "execution_count": 17,
   "metadata": {},
   "outputs": [
    {
     "data": {
      "text/plain": [
       "'Blue'"
      ]
     },
     "execution_count": 17,
     "metadata": {},
     "output_type": "execute_result"
    }
   ],
   "source": [
    "CAR_COLOR"
   ]
  },
  {
   "cell_type": "code",
   "execution_count": 18,
   "metadata": {},
   "outputs": [
    {
     "data": {
      "text/plain": [
       "'White'"
      ]
     },
     "execution_count": 18,
     "metadata": {},
     "output_type": "execute_result"
    }
   ],
   "source": [
    "def try_to_change_me():\n",
    "    global CAR_COLOR\n",
    "    CAR_COLOR = \"White\"\n",
    "    return CAR_COLOR\n",
    "\n",
    "changed_color = try_to_change_me()\n",
    "changed_color"
   ]
  },
  {
   "cell_type": "code",
   "execution_count": 19,
   "metadata": {},
   "outputs": [
    {
     "data": {
      "text/plain": [
       "'White'"
      ]
     },
     "execution_count": 19,
     "metadata": {},
     "output_type": "execute_result"
    }
   ],
   "source": [
    "CAR_COLOR"
   ]
  },
  {
   "cell_type": "markdown",
   "metadata": {},
   "source": [
    "# Namespaces "
   ]
  },
  {
   "cell_type": "markdown",
   "metadata": {},
   "source": [
    "- Think of namespaces as a note which keeps list of all the names that are availabe in a scope.\n",
    "- Namespaces bascially tells interpreter about what is accessible and what is not.\n",
    "- All the names that are available to use in a score will be part of the namespace for that scope.\n",
    "- Namespaces are the reason you can have same function name in python in two different class or module, you can run them together and they will never get conflicted (Because they have seperate namespaces.)"
   ]
  },
  {
   "cell_type": "code",
   "execution_count": 20,
   "metadata": {},
   "outputs": [
    {
     "name": "stdout",
     "output_type": "stream",
     "text": [
      "{'CAR_COLOR': 'White',\n",
      " 'In': ['',\n",
      "        'dog = \"Ugly street dog\"\\n'\n",
      "        '\\n'\n",
      "        'def home():\\n'\n",
      "        '    dog = \"My sweet pet\"\\n'\n",
      "        '    return dog\\n'\n",
      "        '\\n'\n",
      "        'print(home())',\n",
      "        'dog',\n",
      "        'dog = \"Ugly street dog\"\\n'\n",
      "        '\\n'\n",
      "        'def home():\\n'\n",
      "        '    dog = \"My sweet pet\"\\n'\n",
      "        '    return dog\\n'\n",
      "        '\\n'\n",
      "        'bark = home()',\n",
      "        'bark',\n",
      "        'dog',\n",
      "        'bark',\n",
      "        'dog',\n",
      "        'dog_has_tail = True',\n",
      "        'dog_has_tail = True\\nTrue = a',\n",
      "        'dog_has_tail = True',\n",
      "        'CAR_COLOR = \"Blue\"\\n'\n",
      "        '\\n'\n",
      "        'def try_to_change_me():\\n'\n",
      "        '    CAR_COLOR = \"White\"\\n'\n",
      "        '    return CAR_COLOR\\n'\n",
      "        '\\n'\n",
      "        'changed_color = try_to_change_me()\\n'\n",
      "        'changed_color',\n",
      "        'CAR_COLOR',\n",
      "        'def try_to_change_me():\\n'\n",
      "        '    CAR_COLOR = \"White\"\\n'\n",
      "        '    global CAR_COLOR\\n'\n",
      "        '    return CAR_COLOR\\n'\n",
      "        '\\n'\n",
      "        'changed_color = try_to_change_me()\\n'\n",
      "        'changed_color',\n",
      "        'def try_to_change_me():\\n'\n",
      "        '    global CAR_COLOR\\n'\n",
      "        '    CAR_COLOR = \"White\"\\n'\n",
      "        '    return CAR_COLOR\\n'\n",
      "        '\\n'\n",
      "        'changed_color = try_to_change_me()\\n'\n",
      "        'changed_color',\n",
      "        'CAR_COLOR',\n",
      "        'CAR_COLOR = \"Blue\"\\n'\n",
      "        '\\n'\n",
      "        'def try_to_change_me():\\n'\n",
      "        '    CAR_COLOR = \"White\"\\n'\n",
      "        '    return CAR_COLOR\\n'\n",
      "        '\\n'\n",
      "        'changed_color = try_to_change_me()\\n'\n",
      "        'changed_color',\n",
      "        'CAR_COLOR',\n",
      "        'def try_to_change_me():\\n'\n",
      "        '    global CAR_COLOR\\n'\n",
      "        '    CAR_COLOR = \"White\"\\n'\n",
      "        '    return CAR_COLOR\\n'\n",
      "        '\\n'\n",
      "        'changed_color = try_to_change_me()\\n'\n",
      "        'changed_color',\n",
      "        'CAR_COLOR',\n",
      "        'import pprint # just for a beautiful output\\n'\n",
      "        '\\n'\n",
      "        'pprint.pprint(locals())  # locals of outer scope. Although same as '\n",
      "        'globals technically'],\n",
      " 'Out': {2: 'Ugly street dog',\n",
      "         4: 'My sweet pet',\n",
      "         5: 'Ugly street dog',\n",
      "         6: 'My sweet pet',\n",
      "         7: 'Ugly street dog',\n",
      "         11: 'White',\n",
      "         12: 'Blue',\n",
      "         14: 'White',\n",
      "         15: 'White',\n",
      "         16: 'White',\n",
      "         17: 'Blue',\n",
      "         18: 'White',\n",
      "         19: 'White'},\n",
      " '_': 'White',\n",
      " '_11': 'White',\n",
      " '_12': 'Blue',\n",
      " '_14': 'White',\n",
      " '_15': 'White',\n",
      " '_16': 'White',\n",
      " '_17': 'Blue',\n",
      " '_18': 'White',\n",
      " '_19': 'White',\n",
      " '_2': 'Ugly street dog',\n",
      " '_2to3_refactor_cell': <function _2to3_refactor_cell at 0x7f1d6c143830>,\n",
      " '_2to3_refactoring_tool': <lib2to3.refactor.RefactoringTool object at 0x7f1d6eab4810>,\n",
      " '_4': 'My sweet pet',\n",
      " '_5': 'Ugly street dog',\n",
      " '_6': 'My sweet pet',\n",
      " '_7': 'Ugly street dog',\n",
      " '__': 'White',\n",
      " '___': 'Blue',\n",
      " '__builtin__': <module 'builtins' (built-in)>,\n",
      " '__builtins__': <module 'builtins' (built-in)>,\n",
      " '__doc__': 'Automatically created module for IPython interactive environment',\n",
      " '__loader__': None,\n",
      " '__name__': '__main__',\n",
      " '__package__': None,\n",
      " '__spec__': None,\n",
      " '_dh': ['/home/pritesh/Dropbox/Python training/Notebooks'],\n",
      " '_i': 'CAR_COLOR',\n",
      " '_i1': 'dog = \"Ugly street dog\"\\n'\n",
      "        '\\n'\n",
      "        'def home():\\n'\n",
      "        '    dog = \"My sweet pet\"\\n'\n",
      "        '    return dog\\n'\n",
      "        '\\n'\n",
      "        'print(home())',\n",
      " '_i10': 'dog_has_tail = True',\n",
      " '_i11': 'CAR_COLOR = \"Blue\"\\n'\n",
      "         '\\n'\n",
      "         'def try_to_change_me():\\n'\n",
      "         '    CAR_COLOR = \"White\"\\n'\n",
      "         '    return CAR_COLOR\\n'\n",
      "         '\\n'\n",
      "         'changed_color = try_to_change_me()\\n'\n",
      "         'changed_color',\n",
      " '_i12': 'CAR_COLOR',\n",
      " '_i13': 'def try_to_change_me():\\n'\n",
      "         '    CAR_COLOR = \"White\"\\n'\n",
      "         '    global CAR_COLOR\\n'\n",
      "         '    return CAR_COLOR\\n'\n",
      "         '\\n'\n",
      "         'changed_color = try_to_change_me()\\n'\n",
      "         'changed_color',\n",
      " '_i14': 'def try_to_change_me():\\n'\n",
      "         '    global CAR_COLOR\\n'\n",
      "         '    CAR_COLOR = \"White\"\\n'\n",
      "         '    return CAR_COLOR\\n'\n",
      "         '\\n'\n",
      "         'changed_color = try_to_change_me()\\n'\n",
      "         'changed_color',\n",
      " '_i15': 'CAR_COLOR',\n",
      " '_i16': 'CAR_COLOR = \"Blue\"\\n'\n",
      "         '\\n'\n",
      "         'def try_to_change_me():\\n'\n",
      "         '    CAR_COLOR = \"White\"\\n'\n",
      "         '    return CAR_COLOR\\n'\n",
      "         '\\n'\n",
      "         'changed_color = try_to_change_me()\\n'\n",
      "         'changed_color',\n",
      " '_i17': 'CAR_COLOR',\n",
      " '_i18': 'def try_to_change_me():\\n'\n",
      "         '    global CAR_COLOR\\n'\n",
      "         '    CAR_COLOR = \"White\"\\n'\n",
      "         '    return CAR_COLOR\\n'\n",
      "         '\\n'\n",
      "         'changed_color = try_to_change_me()\\n'\n",
      "         'changed_color',\n",
      " '_i19': 'CAR_COLOR',\n",
      " '_i2': 'dog',\n",
      " '_i20': 'import pprint # just for a beautiful output\\n'\n",
      "         '\\n'\n",
      "         'pprint.pprint(locals())  # locals of outer scope. Although same as '\n",
      "         'globals technically',\n",
      " '_i3': 'dog = \"Ugly street dog\"\\n'\n",
      "        '\\n'\n",
      "        'def home():\\n'\n",
      "        '    dog = \"My sweet pet\"\\n'\n",
      "        '    return dog\\n'\n",
      "        '\\n'\n",
      "        'bark = home()',\n",
      " '_i4': 'bark',\n",
      " '_i5': 'dog',\n",
      " '_i6': 'bark',\n",
      " '_i7': 'dog',\n",
      " '_i8': 'dog_has_tail = True',\n",
      " '_i9': 'dog_has_tail = True\\nTrue = a',\n",
      " '_ih': ['',\n",
      "         'dog = \"Ugly street dog\"\\n'\n",
      "         '\\n'\n",
      "         'def home():\\n'\n",
      "         '    dog = \"My sweet pet\"\\n'\n",
      "         '    return dog\\n'\n",
      "         '\\n'\n",
      "         'print(home())',\n",
      "         'dog',\n",
      "         'dog = \"Ugly street dog\"\\n'\n",
      "         '\\n'\n",
      "         'def home():\\n'\n",
      "         '    dog = \"My sweet pet\"\\n'\n",
      "         '    return dog\\n'\n",
      "         '\\n'\n",
      "         'bark = home()',\n",
      "         'bark',\n",
      "         'dog',\n",
      "         'bark',\n",
      "         'dog',\n",
      "         'dog_has_tail = True',\n",
      "         'dog_has_tail = True\\nTrue = a',\n",
      "         'dog_has_tail = True',\n",
      "         'CAR_COLOR = \"Blue\"\\n'\n",
      "         '\\n'\n",
      "         'def try_to_change_me():\\n'\n",
      "         '    CAR_COLOR = \"White\"\\n'\n",
      "         '    return CAR_COLOR\\n'\n",
      "         '\\n'\n",
      "         'changed_color = try_to_change_me()\\n'\n",
      "         'changed_color',\n",
      "         'CAR_COLOR',\n",
      "         'def try_to_change_me():\\n'\n",
      "         '    CAR_COLOR = \"White\"\\n'\n",
      "         '    global CAR_COLOR\\n'\n",
      "         '    return CAR_COLOR\\n'\n",
      "         '\\n'\n",
      "         'changed_color = try_to_change_me()\\n'\n",
      "         'changed_color',\n",
      "         'def try_to_change_me():\\n'\n",
      "         '    global CAR_COLOR\\n'\n",
      "         '    CAR_COLOR = \"White\"\\n'\n",
      "         '    return CAR_COLOR\\n'\n",
      "         '\\n'\n",
      "         'changed_color = try_to_change_me()\\n'\n",
      "         'changed_color',\n",
      "         'CAR_COLOR',\n",
      "         'CAR_COLOR = \"Blue\"\\n'\n",
      "         '\\n'\n",
      "         'def try_to_change_me():\\n'\n",
      "         '    CAR_COLOR = \"White\"\\n'\n",
      "         '    return CAR_COLOR\\n'\n",
      "         '\\n'\n",
      "         'changed_color = try_to_change_me()\\n'\n",
      "         'changed_color',\n",
      "         'CAR_COLOR',\n",
      "         'def try_to_change_me():\\n'\n",
      "         '    global CAR_COLOR\\n'\n",
      "         '    CAR_COLOR = \"White\"\\n'\n",
      "         '    return CAR_COLOR\\n'\n",
      "         '\\n'\n",
      "         'changed_color = try_to_change_me()\\n'\n",
      "         'changed_color',\n",
      "         'CAR_COLOR',\n",
      "         'import pprint # just for a beautiful output\\n'\n",
      "         '\\n'\n",
      "         'pprint.pprint(locals())  # locals of outer scope. Although same as '\n",
      "         'globals technically'],\n",
      " '_ii': 'def try_to_change_me():\\n'\n",
      "        '    global CAR_COLOR\\n'\n",
      "        '    CAR_COLOR = \"White\"\\n'\n",
      "        '    return CAR_COLOR\\n'\n",
      "        '\\n'\n",
      "        'changed_color = try_to_change_me()\\n'\n",
      "        'changed_color',\n",
      " '_iii': 'CAR_COLOR',\n",
      " '_oh': {2: 'Ugly street dog',\n",
      "         4: 'My sweet pet',\n",
      "         5: 'Ugly street dog',\n",
      "         6: 'My sweet pet',\n",
      "         7: 'Ugly street dog',\n",
      "         11: 'White',\n",
      "         12: 'Blue',\n",
      "         14: 'White',\n",
      "         15: 'White',\n",
      "         16: 'White',\n",
      "         17: 'Blue',\n",
      "         18: 'White',\n",
      "         19: 'White'},\n",
      " 'bark': 'My sweet pet',\n",
      " 'changed_color': 'White',\n",
      " 'dog': 'Ugly street dog',\n",
      " 'dog_has_tail': True,\n",
      " 'exit': <IPython.core.autocall.ZMQExitAutocall object at 0x7f1d6eaa1610>,\n",
      " 'get_ipython': <bound method InteractiveShell.get_ipython of <ipykernel.zmqshell.ZMQInteractiveShell object at 0x7f1d6eab0b90>>,\n",
      " 'home': <function home at 0x7f1d5e3e0d40>,\n",
      " 'json': <module 'json' from '/home/pritesh/anaconda3/lib/python3.7/json/__init__.py'>,\n",
      " 'lib2to3': <module 'lib2to3' from '/home/pritesh/anaconda3/lib/python3.7/lib2to3/__init__.py'>,\n",
      " 'pprint': <module 'pprint' from '/home/pritesh/anaconda3/lib/python3.7/pprint.py'>,\n",
      " 'quit': <IPython.core.autocall.ZMQExitAutocall object at 0x7f1d6eaa1610>,\n",
      " 'try_to_change_me': <function try_to_change_me at 0x7f1d5cd47950>,\n",
      " 'yapf_reformat': <function yapf_reformat at 0x7f1d5e3e0200>}\n"
     ]
    }
   ],
   "source": [
    "import pprint # just for a beautiful output\n",
    "\n",
    "pprint.pprint(locals())  # locals of outer scope. Although same as globals technically"
   ]
  },
  {
   "cell_type": "code",
   "execution_count": 21,
   "metadata": {},
   "outputs": [
    {
     "name": "stdout",
     "output_type": "stream",
     "text": [
      "{'CAR_COLOR': 'White'}\n"
     ]
    }
   ],
   "source": [
    "def try_to_change_me():\n",
    "    CAR_COLOR = \"White\"\n",
    "    pprint.pprint(locals())\n",
    "\n",
    "try_to_change_me()"
   ]
  },
  {
   "cell_type": "markdown",
   "metadata": {},
   "source": [
    "# Making it fun! nonlocal"
   ]
  },
  {
   "cell_type": "code",
   "execution_count": 24,
   "metadata": {},
   "outputs": [
    {
     "name": "stdout",
     "output_type": "stream",
     "text": [
      "from inner: c\n",
      "from outer: b\n",
      "globally: a\n"
     ]
    }
   ],
   "source": [
    "x = \"a\"\n",
    "def outer():\n",
    "    x = \"b\"\n",
    "    def inner():\n",
    "        x = \"c\"\n",
    "        print(\"from inner:\", x)\n",
    "\n",
    "    inner()\n",
    "    print(\"from outer:\", x)\n",
    "\n",
    "outer()\n",
    "print(\"globally:\", x)"
   ]
  },
  {
   "cell_type": "code",
   "execution_count": 25,
   "metadata": {},
   "outputs": [
    {
     "name": "stdout",
     "output_type": "stream",
     "text": [
      "inner: c\n",
      "outer: c\n",
      "global: a\n"
     ]
    }
   ],
   "source": [
    "x = \"a\"\n",
    "def outer():\n",
    "    x = \"b\"\n",
    "    def inner():\n",
    "        nonlocal x\n",
    "        x = \"c\"\n",
    "        print(\"inner:\", x)\n",
    "\n",
    "    inner()\n",
    "    print(\"outer:\", x)\n",
    "\n",
    "outer()\n",
    "print(\"global:\", x)"
   ]
  },
  {
   "cell_type": "code",
   "execution_count": 26,
   "metadata": {},
   "outputs": [
    {
     "name": "stdout",
     "output_type": "stream",
     "text": [
      "inner: c\n",
      "outer: b\n",
      "global: c\n"
     ]
    }
   ],
   "source": [
    "x = \"a\"\n",
    "def outer():\n",
    "    x = \"b\"\n",
    "    def inner():\n",
    "        global x\n",
    "        x = \"c\"\n",
    "        print(\"inner:\", x)\n",
    "\n",
    "    inner()\n",
    "    print(\"outer:\", x)\n",
    "\n",
    "outer()\n",
    "print(\"global:\", x)"
   ]
  },
  {
   "cell_type": "markdown",
   "metadata": {},
   "source": [
    "# The LEGB rule"
   ]
  },
  {
   "cell_type": "markdown",
   "metadata": {},
   "source": [
    "- As you saw before, namespaces can exist independently from eachother, and have certain levels of hierarchy, which we refer to as their scope. Depending on where you are in a program, a different namespace will be used. To determine in which order Python should access namespaces, you can use the LEGB rule.\n",
    "\n",
    "- LEGB stands for:\n",
    "    - local\n",
    "    - Enclosed\n",
    "    - Global\n",
    "    - Built-in"
   ]
  },
  {
   "cell_type": "markdown",
   "metadata": {},
   "source": [
    "- Let's say you're calling print(x) within inner(), which is a function nested in outer(). Then Python will first look if x was defined locally in that inner(). If not, the variable defined in outer() will be used. This is the enclosing function. If it also wasn't defined there, the Python interpreter will go up another level, to the global scope. Above that you will only find the built-in scope, which contains special variables reserverd for Python itself."
   ]
  },
  {
   "cell_type": "code",
   "execution_count": 27,
   "metadata": {},
   "outputs": [],
   "source": [
    "x = 0\n",
    "\n",
    "def outer():\n",
    "    # Enclosed scope\n",
    "    x = 1\n",
    "    def inner():\n",
    "        # Local scope\n",
    "        x = 2"
   ]
  },
  {
   "cell_type": "code",
   "execution_count": null,
   "metadata": {},
   "outputs": [],
   "source": []
  }
 ],
 "metadata": {
  "kernelspec": {
   "display_name": "Python 3",
   "language": "python",
   "name": "python3"
  },
  "language_info": {
   "codemirror_mode": {
    "name": "ipython",
    "version": 3
   },
   "file_extension": ".py",
   "mimetype": "text/x-python",
   "name": "python",
   "nbconvert_exporter": "python",
   "pygments_lexer": "ipython3",
   "version": "3.7.4"
  },
  "toc": {
   "base_numbering": 1,
   "nav_menu": {},
   "number_sections": true,
   "sideBar": true,
   "skip_h1_title": false,
   "title_cell": "Table of Contents",
   "title_sidebar": "Contents",
   "toc_cell": false,
   "toc_position": {},
   "toc_section_display": true,
   "toc_window_display": false
  }
 },
 "nbformat": 4,
 "nbformat_minor": 2
}
