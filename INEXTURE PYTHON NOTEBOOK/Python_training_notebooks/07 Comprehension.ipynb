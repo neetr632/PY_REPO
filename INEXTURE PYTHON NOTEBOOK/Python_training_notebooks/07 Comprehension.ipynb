{
 "cells": [
  {
   "cell_type": "markdown",
   "metadata": {},
   "source": [
    "# What is comprehension?"
   ]
  },
  {
   "cell_type": "markdown",
   "metadata": {},
   "source": [
    "- It is the way of __creating a iterable__ out of __any Iterable.__\n",
    "- Most of the for loops that create an iterable can be replaced by iterable comprehension."
   ]
  },
  {
   "cell_type": "markdown",
   "metadata": {},
   "source": [
    "# Components of comprehension"
   ]
  },
  {
   "cell_type": "markdown",
   "metadata": {},
   "source": [
    "1. __expression:__\n",
    "\n",
    "    It is any valid expression that perform some operation and returns a value.\n",
    "    \n",
    "    \n",
    "2. __member:__\n",
    "    \n",
    "    It is one of the item or element in the iterable from which we are creating another iterable.\n",
    "    \n",
    "    \n",
    "3. __iterable:__\n",
    "    \n",
    "    Obviously, it is an iterable.\n",
    "    from which we are creating another iterable."
   ]
  },
  {
   "cell_type": "markdown",
   "metadata": {},
   "source": [
    "# list comprehension"
   ]
  },
  {
   "cell_type": "markdown",
   "metadata": {},
   "source": [
    "## Signature"
   ]
  },
  {
   "cell_type": "markdown",
   "metadata": {},
   "source": [
    "__new_list = \\[ expression for member in iterable \\]__"
   ]
  },
  {
   "cell_type": "code",
   "execution_count": 2,
   "metadata": {},
   "outputs": [
    {
     "name": "stdout",
     "output_type": "stream",
     "text": [
      "[1, 4, 9, 16, 25, 36, 49, 64, 81, 100]\n",
      "[1, 4, 9, 16, 25, 36, 49, 64, 81, 100]\n"
     ]
    }
   ],
   "source": [
    "squares = []\n",
    "\n",
    "for num in range(1, 11):\n",
    "    squares.append(num*num)\n",
    "    \n",
    "print(squares)\n",
    "\n",
    "del squares\n",
    "\n",
    "squares = [num*num for num in range(1, 11)]\n",
    "print(squares)"
   ]
  },
  {
   "cell_type": "markdown",
   "metadata": {},
   "source": [
    "## Why use list comprehension?"
   ]
  },
  {
   "cell_type": "markdown",
   "metadata": {},
   "source": [
    "- We’re creating one iterable from another which is exactly what list comprehensions are good for.\n",
    "- They are faster.\n",
    "- They are more pythonic.\n",
    "- They are more redable.\n",
    "- They take care of list creation, we just need to focus on what we need in list.\n",
    "- Makes filtering easy.\n",
    "- __Most of the time__ better choice than map() and filter(). (NOT ALL THE TIME)"
   ]
  },
  {
   "cell_type": "markdown",
   "metadata": {},
   "source": [
    "## Conditions with list comprehension"
   ]
  },
  {
   "cell_type": "markdown",
   "metadata": {},
   "source": [
    "1. __new_list = \\[expression for member in iterable (if conditional)\\]__  => filter items\n",
    "2. __new_list = \\[expression (if conditional) for member in iterable\\]__  => change items"
   ]
  },
  {
   "cell_type": "code",
   "execution_count": 3,
   "metadata": {},
   "outputs": [
    {
     "name": "stdout",
     "output_type": "stream",
     "text": [
      "[1, 2, 3, 4, 5, 6, 7, 8, 9, 10, 11, 12, 13, 14, 15, 16, 17, 18, 19, 20, 21, 22, 23, 24, 25, 26, 27, 28, 29, 30, 31, 32, 33, 34, 35, 36, 37, 38, 39, 40, 41, 42, 43, 44, 45, 46, 47, 48, 49, 50, 51, 52, 53, 54, 55, 56, 57, 58, 59, 60, 61, 62, 63, 64, 65, 66, 67, 68, 69, 70, 71, 72, 73, 74, 75, 76, 77, 78, 79, 80, 81, 82, 83, 84, 85, 86, 87, 88, 89, 90, 91, 92, 93, 94, 95, 96, 97, 98, 99, 100, 101, 102, 103, 104, 105, 106, 107, 108, 109, 110, 111, 112, 113, 114, 115, 116, 117, 118, 119, 120, 121, 122, 123, 124, 125, 126, 127, 128, 129, 130, 131, 132, 133, 134, 135, 136, 137, 138, 139, 140, 141, 142, 143, 144, 145, 146, 147, 148, 149, 150, 151, 152, 153, 154, 155, 156, 157, 158, 159, 160, 161, 162, 163, 164, 165, 166, 167, 168, 169, 170, 171, 172, 173, 174, 175, 176, 177, 178, 179, 180, 181, 182, 183, 184, 185, 186, 187, 188, 189, 190, 191, 192, 193, 194, 195, 196, 197, 198, 199, 200, 201, 202, 203, 204, 205, 206, 207, 208, 209, 210, 211, 212, 213, 214, 215, 216, 217, 218, 219, 220, 221, 222, 223]\n"
     ]
    }
   ],
   "source": [
    "# Get all the numbers between 1 to 1000 whose square is less than 50000.\n",
    "\n",
    "squares_lt_five_lac = [num for num in range(1, 1001) if num*num < 50000]\n",
    "\n",
    "print(squares_lt_five_lac)\n",
    "\n",
    "# only those elements will be added to new list for which the condition is True."
   ]
  },
  {
   "cell_type": "code",
   "execution_count": 4,
   "metadata": {},
   "outputs": [
    {
     "name": "stdout",
     "output_type": "stream",
     "text": [
      "['e', 'o', 'i', 'i', 'e', 'e', 'a', 'o', 'e']\n"
     ]
    }
   ],
   "source": [
    "# Get all the vowels in a sentence.\n",
    "\n",
    "sentence = \"Well, Python is different than others!\"\n",
    "\n",
    "vowels = \"aeiou\"\n",
    "\n",
    "vowels_in_sentence = [char for char in sentence if char in vowels]\n",
    "\n",
    "print(vowels_in_sentence)"
   ]
  },
  {
   "cell_type": "code",
   "execution_count": 8,
   "metadata": {},
   "outputs": [
    {
     "name": "stdout",
     "output_type": "stream",
     "text": [
      "[1, 4, 27, 16, 125, 36, 343, 64, 729, 100, 1331, 144, 2197, 196, 3375, 256, 4913, 324, 6859, 400]\n"
     ]
    }
   ],
   "source": [
    "# get squares of even numbers and cubes of odd numbers in a range.\n",
    "\n",
    "squares_and_cubes = [i*i*i if i%2 else i*i for i in range(1, 21)]\n",
    "print(squares_and_cubes)"
   ]
  },
  {
   "cell_type": "markdown",
   "metadata": {},
   "source": [
    "# set comprehension"
   ]
  },
  {
   "cell_type": "code",
   "execution_count": 9,
   "metadata": {},
   "outputs": [
    {
     "name": "stdout",
     "output_type": "stream",
     "text": [
      "{'o', 'i', 'u', 'e', 'a'}\n"
     ]
    }
   ],
   "source": [
    "# find unique vowels from a sentence.\n",
    "\n",
    "sentence = \"Get me all the unique vowels man!\"\n",
    "\n",
    "vowels = \"aeiou\"\n",
    "\n",
    "unique_vowels_in_sentence = {char for char in sentence if char in vowels}\n",
    "\n",
    "print(unique_vowels_in_sentence)"
   ]
  },
  {
   "cell_type": "markdown",
   "metadata": {},
   "source": [
    "# dictionary comprehension"
   ]
  },
  {
   "cell_type": "markdown",
   "metadata": {},
   "source": [
    "- It requires a key"
   ]
  },
  {
   "cell_type": "code",
   "execution_count": 10,
   "metadata": {},
   "outputs": [
    {
     "name": "stdout",
     "output_type": "stream",
     "text": [
      "{1: 1.0, 2: 1.4142135623730951, 3: 1.7320508075688772, 4: 2.0, 5: 2.23606797749979, 6: 2.449489742783178, 7: 2.6457513110645907, 8: 2.8284271247461903, 9: 3.0, 10: 3.1622776601683795}\n"
     ]
    }
   ],
   "source": [
    "# creat a dict out of list of numbers with number as a key and their square roots as value.\n",
    "\n",
    "import math\n",
    "\n",
    "squares = {num: math.sqrt(num) for num in range(1, 11)}\n",
    "print(squares)"
   ]
  },
  {
   "cell_type": "markdown",
   "metadata": {},
   "source": [
    "# When not to use comprehensions"
   ]
  },
  {
   "cell_type": "markdown",
   "metadata": {},
   "source": [
    "- You do not need to create a seperate iterable out of an existing iterable, let's say you just want to print elements or pass them to functions.\n",
    "- When the input interable is a huge data set then avoid using it in all cases.\n",
    "- If nested comprehensions make code look dirty then avoid it. Because redability always counts.\n",
    "- When perfomance matters try all the approaches and see which is more suitable for your needs map(), loop or comprehension.\n",
    "- Clean code is better than a code that looks _smart_. So, don't use just because they look sophisticated."
   ]
  },
  {
   "cell_type": "code",
   "execution_count": null,
   "metadata": {},
   "outputs": [],
   "source": []
  }
 ],
 "metadata": {
  "kernelspec": {
   "display_name": "Python 3 (ipykernel)",
   "language": "python",
   "name": "python3"
  },
  "language_info": {
   "codemirror_mode": {
    "name": "ipython",
    "version": 3
   },
   "file_extension": ".py",
   "mimetype": "text/x-python",
   "name": "python",
   "nbconvert_exporter": "python",
   "pygments_lexer": "ipython3",
   "version": "3.10.12"
  },
  "toc": {
   "base_numbering": 1,
   "nav_menu": {},
   "number_sections": true,
   "sideBar": true,
   "skip_h1_title": false,
   "title_cell": "Table of Contents",
   "title_sidebar": "Contents",
   "toc_cell": false,
   "toc_position": {},
   "toc_section_display": true,
   "toc_window_display": false
  }
 },
 "nbformat": 4,
 "nbformat_minor": 2
}
