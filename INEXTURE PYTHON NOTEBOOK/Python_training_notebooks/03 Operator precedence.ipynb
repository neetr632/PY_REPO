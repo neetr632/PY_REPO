{
 "cells": [
  {
   "cell_type": "markdown",
   "metadata": {},
   "source": [
    "![title](images/operators.png)"
   ]
  },
  {
   "cell_type": "markdown",
   "metadata": {},
   "source": [
    "![title](images/operator_precendence.png)"
   ]
  },
  {
   "cell_type": "markdown",
   "metadata": {},
   "source": [
    "# Mathematical operators"
   ]
  },
  {
   "cell_type": "code",
   "execution_count": 2,
   "metadata": {},
   "outputs": [
    {
     "name": "stdout",
     "output_type": "stream",
     "text": [
      "c = a + b: \n",
      "11\n",
      "\n",
      "c = a - b: \n",
      "3\n",
      "\n",
      "c = a * b: \n",
      "28\n",
      "\n",
      "c = a ** b: \n",
      "2401\n",
      "\n",
      "c = a / b: \n",
      "1.75\n",
      "\n",
      "c = a // b: \n",
      "1\n",
      "\n",
      "c = a % b: \n",
      "3\n",
      "\n",
      "c = a + (-b): \n",
      "3\n",
      "\n",
      "c = (-a) + b: \n",
      "-3\n",
      "\n"
     ]
    }
   ],
   "source": [
    "a = 7\n",
    "b = 4\n",
    "\n",
    "c = a + b\n",
    "print(\"c = a + b: \\n{}\\n\".format(c))\n",
    "\n",
    "c = a - b\n",
    "print(\"c = a - b: \\n{}\\n\".format(c))\n",
    "\n",
    "c = a * b\n",
    "print(\"c = a * b: \\n{}\\n\".format(c))\n",
    "\n",
    "c = a ** b\n",
    "print(\"c = a ** b: \\n{}\\n\".format(c))\n",
    "\n",
    "c = a / b\n",
    "print(\"c = a / b: \\n{}\\n\".format(c))\n",
    "\n",
    "c = a // b\n",
    "print(\"c = a // b: \\n{}\\n\".format(c))\n",
    "\n",
    "c = a % b\n",
    "print(\"c = a % b: \\n{}\\n\".format(c))\n",
    "\n",
    "c = a + (-b)\n",
    "print(\"c = a + (-b): \\n{}\\n\".format(c))\n",
    "\n",
    "c = (-a) + b\n",
    "print(\"c = (-a) + b: \\n{}\\n\".format(c))"
   ]
  },
  {
   "cell_type": "markdown",
   "metadata": {},
   "source": [
    "# Bitwise operators"
   ]
  },
  {
   "cell_type": "code",
   "execution_count": 3,
   "metadata": {},
   "outputs": [
    {
     "name": "stdout",
     "output_type": "stream",
     "text": [
      "c = a << 2: \n",
      "28\n",
      "\n",
      "c = b >> 2: \n",
      "1\n",
      "\n",
      "c = a & b: \n",
      "4\n",
      "\n",
      "c = a | b: \n",
      "7\n",
      "\n",
      "c = a ^ b: \n",
      "3\n",
      "\n"
     ]
    }
   ],
   "source": [
    "c = a << 2\n",
    "print(\"c = a << 2: \\n{}\\n\".format(c))\n",
    "\n",
    "c = b >> 2\n",
    "print(\"c = b >> 2: \\n{}\\n\".format(c))\n",
    "\n",
    "c = a & b\n",
    "print(\"c = a & b: \\n{}\\n\".format(c))\n",
    "\n",
    "c = a | b\n",
    "print(\"c = a | b: \\n{}\\n\".format(c))\n",
    "\n",
    "c = a ^ b\n",
    "print(\"c = a ^ b: \\n{}\\n\".format(c))"
   ]
  },
  {
   "cell_type": "markdown",
   "metadata": {},
   "source": [
    "# Comparison operators"
   ]
  },
  {
   "cell_type": "code",
   "execution_count": 4,
   "metadata": {},
   "outputs": [
    {
     "name": "stdout",
     "output_type": "stream",
     "text": [
      "a == b: \n",
      "True\n",
      "\n",
      "a is b: \n",
      "False\n",
      "\n",
      "b in a: \n",
      "True\n",
      "\n",
      "c in a: \n",
      "False\n",
      "\n",
      "b in a: \n",
      "True\n",
      "\n",
      "c in a: \n",
      "False\n",
      "\n"
     ]
    }
   ],
   "source": [
    "a = 7\n",
    "b = 7.0\n",
    "\n",
    "print(\"a == b: \\n{}\\n\".format(a == b))\n",
    "\n",
    "print(\"a is b: \\n{}\\n\".format(a is b))\n",
    "\n",
    "a = [1, 2, 3, 4]\n",
    "b = 3\n",
    "c = 5\n",
    "print(\"b in a: \\n{}\\n\".format(b in a))\n",
    "\n",
    "print(\"c in a: \\n{}\\n\".format(c in a))\n",
    "\n",
    "a = \"python\"\n",
    "b = \"th\"\n",
    "c = \"xyz\"\n",
    "\n",
    "print(\"b in a: \\n{}\\n\".format(b in a))\n",
    "\n",
    "print(\"c in a: \\n{}\\n\".format(c in a))"
   ]
  },
  {
   "cell_type": "code",
   "execution_count": 5,
   "metadata": {},
   "outputs": [
    {
     "data": {
      "text/plain": [
       "True"
      ]
     },
     "execution_count": 5,
     "metadata": {},
     "output_type": "execute_result"
    }
   ],
   "source": [
    "x = 110\n",
    "y = 110\n",
    "x is y"
   ]
  },
  {
   "cell_type": "markdown",
   "metadata": {},
   "source": [
    "# Logical operators"
   ]
  },
  {
   "cell_type": "markdown",
   "metadata": {},
   "source": [
    "## AND"
   ]
  },
  {
   "cell_type": "code",
   "execution_count": 6,
   "metadata": {},
   "outputs": [
    {
     "name": "stdout",
     "output_type": "stream",
     "text": [
      "Input \t\t Input \t\t output\n",
      "\n",
      "True \t\t True \t\t True\n",
      "\n",
      "True \t\t False \t\t False\n",
      "\n",
      "False \t\t True \t\t False\n",
      "\n",
      "False \t\t False \t\t False\n",
      "\n"
     ]
    }
   ],
   "source": [
    "print(\"Input \\t\\t Input \\t\\t output\\n\")\n",
    "print(\"True \\t\\t True \\t\\t {}\\n\".format(True and True))\n",
    "print(\"True \\t\\t False \\t\\t {}\\n\".format(True and False))\n",
    "print(\"False \\t\\t True \\t\\t {}\\n\".format(False and True))\n",
    "print(\"False \\t\\t False \\t\\t {}\\n\".format(False and False))"
   ]
  },
  {
   "cell_type": "markdown",
   "metadata": {},
   "source": [
    "## OR"
   ]
  },
  {
   "cell_type": "code",
   "execution_count": 7,
   "metadata": {},
   "outputs": [
    {
     "name": "stdout",
     "output_type": "stream",
     "text": [
      "Input \t\t Input \t\t output\n",
      "\n",
      "True \t\t True \t\t True\n",
      "\n",
      "True \t\t False \t\t True\n",
      "\n",
      "False \t\t True \t\t True\n",
      "\n",
      "False \t\t False \t\t False\n",
      "\n"
     ]
    }
   ],
   "source": [
    "print(\"Input \\t\\t Input \\t\\t output\\n\")\n",
    "print(\"True \\t\\t True \\t\\t {}\\n\".format(True or True))\n",
    "print(\"True \\t\\t False \\t\\t {}\\n\".format(True or False))\n",
    "print(\"False \\t\\t True \\t\\t {}\\n\".format(False or True))\n",
    "print(\"False \\t\\t False \\t\\t {}\\n\".format(False or False))"
   ]
  },
  {
   "cell_type": "markdown",
   "metadata": {},
   "source": [
    "## NOT"
   ]
  },
  {
   "cell_type": "code",
   "execution_count": 8,
   "metadata": {},
   "outputs": [
    {
     "name": "stdout",
     "output_type": "stream",
     "text": [
      "Input \t\t Input \t\t output\n",
      "\n",
      "True \t\t True \t\t False\n",
      "\n",
      "True \t\t False \t\t True\n",
      "\n"
     ]
    }
   ],
   "source": [
    "print(\"Input \\t\\t Input \\t\\t output\\n\")\n",
    "print(\"True \\t\\t True \\t\\t {}\\n\".format(not True))\n",
    "print(\"True \\t\\t False \\t\\t {}\\n\".format(not False))"
   ]
  },
  {
   "cell_type": "markdown",
   "metadata": {},
   "source": [
    "# Operator precendence"
   ]
  },
  {
   "cell_type": "markdown",
   "metadata": {},
   "source": [
    "- Precendence means the **order of execution** in case two operators are present in same statement.\n",
    "- Let's say that if * and + both are present in a statement then * will be executed first and + later.\n",
    "- The image given in the top of notebook represents the order of precedence.\n",
    "- **()** has the highest order and **logical or** has the lowest.\n",
    "- Based on this order python interpreter takes decision for operator should be evaluated first.\n",
    "- The operator with higher precendence will be evaluated before the operators with lower order precendence."
   ]
  },
  {
   "cell_type": "code",
   "execution_count": 9,
   "metadata": {},
   "outputs": [
    {
     "name": "stdout",
     "output_type": "stream",
     "text": [
      "a * b + c: 83\n",
      "\n",
      "a + b * c: 101\n",
      "\n",
      "a * (b + c): 200\n",
      "\n"
     ]
    }
   ],
   "source": [
    "a = 10\n",
    "b = 7\n",
    "c = 13\n",
    "\n",
    "print(\"a * b + c: {}\\n\".format(a * b + c))\n",
    "print(\"a + b * c: {}\\n\".format(a + b * c))\n",
    "\n",
    "print(\"a * (b + c): {}\\n\".format(a * (b + c)))"
   ]
  },
  {
   "cell_type": "markdown",
   "metadata": {},
   "source": [
    "# Associativity"
   ]
  },
  {
   "cell_type": "markdown",
   "metadata": {},
   "source": [
    "- When two operators share an operand and the **operators have the same precedence**, then the expression is evaluated **according to the associativity of the operators.**"
   ]
  },
  {
   "cell_type": "code",
   "execution_count": 10,
   "metadata": {},
   "outputs": [
    {
     "name": "stdout",
     "output_type": "stream",
     "text": [
      "1000000000\n"
     ]
    }
   ],
   "source": [
    "# since the ** operator has right-to-left associativity\n",
    "a = 10\n",
    "b = 3\n",
    "c = 2\n",
    "print(a ** b ** c) # will be executed as (a ** (b ** c))"
   ]
  },
  {
   "cell_type": "code",
   "execution_count": 11,
   "metadata": {},
   "outputs": [
    {
     "name": "stdout",
     "output_type": "stream",
     "text": [
      "1.0\n"
     ]
    }
   ],
   "source": [
    "# since the / operator has left-to-right associativity\n",
    "\n",
    "a = 12\n",
    "b = 3\n",
    "c = 4\n",
    "print(a / b / c) # will be executed as ((a / b) / c)"
   ]
  },
  {
   "cell_type": "code",
   "execution_count": 12,
   "metadata": {},
   "outputs": [
    {
     "name": "stdout",
     "output_type": "stream",
     "text": [
      "False\n"
     ]
    }
   ],
   "source": [
    "print(2018 % 4 == 0 and 2018 % 100 != 0 or 2018 % 400 == 0)"
   ]
  },
  {
   "cell_type": "markdown",
   "metadata": {},
   "source": [
    "**Let's see how it is executed by interpreter**"
   ]
  },
  {
   "cell_type": "code",
   "execution_count": 13,
   "metadata": {},
   "outputs": [
    {
     "name": "stdout",
     "output_type": "stream",
     "text": [
      "first evaluated expression a = 2018 % 4: 2\n",
      "\n",
      "second evaluated expression b = 2018 % 100: 18\n",
      "\n",
      "Third evaluated expression c = 2018 % 400: 18\n",
      "\n",
      "\n",
      "Now the expression is 'a == 0 and b == 0 or c == 0'\n",
      "\n",
      "a == 0 is: False\n",
      "\n",
      "b == 0 is: False\n",
      "\n",
      "c == 0 is: False\n",
      "\n",
      "\n",
      "Fourth evaluated expression is d = a and b: False\n",
      "\n",
      "\n",
      "Fifth evaluated expression is e = d or c: False\n",
      "\n"
     ]
    }
   ],
   "source": [
    "a = 2018 % 4\n",
    "print(\"first evaluated expression a = 2018 % 4: {}\\n\".format(a))\n",
    "\n",
    "b = 2018 % 100\n",
    "print(\"second evaluated expression b = 2018 % 100: {}\\n\".format(b))\n",
    "\n",
    "c = 2018 % 400\n",
    "print(\"Third evaluated expression c = 2018 % 400: {}\\n\".format(c))\n",
    "\n",
    "print(\"\\nNow the expression is 'a == 0 and b == 0 or c == 0'\\n\")\n",
    "\n",
    "a = a == 0\n",
    "print(\"a == 0 is: {}\\n\".format(a))\n",
    "\n",
    "b = b == 0\n",
    "print(\"b == 0 is: {}\\n\".format(b))\n",
    "\n",
    "c = c == 0\n",
    "print(\"c == 0 is: {}\\n\".format(c))\n",
    "\n",
    "d = a and b\n",
    "print(\"\\nFourth evaluated expression is d = a and b: {}\\n\".format(d))\n",
    "\n",
    "e = d or c\n",
    "print(\"\\nFifth evaluated expression is e = d or c: {}\\n\".format(e))"
   ]
  },
  {
   "cell_type": "markdown",
   "metadata": {},
   "source": [
    "# Exercise"
   ]
  },
  {
   "cell_type": "markdown",
   "metadata": {},
   "source": [
    "1. x = 17 / 2 * 3 + 2\n",
    "2. x = 2 + 17 / 2 * 3\n",
    "3. x = 19 % 4 + 15 / 2  * 3\n",
    "4. x = (15 + 6) - 10 * 4\n",
    "5. x = 17 / 2 % 2 * 3\\*\\*3\n",
    "6. x = a \\*\\* b % c / d + e \\* b \\*\\* a\n",
    "7. x = a \\* b \\*\\* 2 + c \\*\\* 3"
   ]
  },
  {
   "cell_type": "code",
   "execution_count": 14,
   "metadata": {},
   "outputs": [
    {
     "data": {
      "text/plain": [
       "13.5"
      ]
     },
     "execution_count": 14,
     "metadata": {},
     "output_type": "execute_result"
    }
   ],
   "source": []
  }
 ],
 "metadata": {
  "kernelspec": {
   "display_name": "Python 3 (ipykernel)",
   "language": "python",
   "name": "python3"
  },
  "language_info": {
   "codemirror_mode": {
    "name": "ipython",
    "version": 3
   },
   "file_extension": ".py",
   "mimetype": "text/x-python",
   "name": "python",
   "nbconvert_exporter": "python",
   "pygments_lexer": "ipython3",
   "version": "3.12.4"
  },
  "toc": {
   "base_numbering": 1,
   "nav_menu": {},
   "number_sections": true,
   "sideBar": true,
   "skip_h1_title": false,
   "title_cell": "Table of Contents",
   "title_sidebar": "Contents",
   "toc_cell": false,
   "toc_position": {},
   "toc_section_display": true,
   "toc_window_display": false
  }
 },
 "nbformat": 4,
 "nbformat_minor": 2
}
