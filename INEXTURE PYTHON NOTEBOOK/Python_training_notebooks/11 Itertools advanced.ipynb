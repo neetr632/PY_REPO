{
 "cells": [
  {
   "cell_type": "markdown",
   "metadata": {},
   "source": [
    "## Given a list of values inputs and a positive integer n, write a function that splits inputs into groups of length n. For simplicity, assume that the length of the input list is divisible by n. For example, if inputs = [1, 2, 3, 4, 5, 6] and n = 2, your function should return [(1, 2), (3, 4), (5, 6)]."
   ]
  },
  {
   "cell_type": "code",
   "execution_count": 1,
   "metadata": {},
   "outputs": [
    {
     "data": {
      "text/plain": [
       "[(1, 2), (3, 4), (5, 6), (7, 8), (9, 10)]"
      ]
     },
     "execution_count": 1,
     "metadata": {},
     "output_type": "execute_result"
    }
   ],
   "source": [
    "def better_grouper(inputs, n):\n",
    "    iters = [iter(inputs)] * n\n",
    "    return zip(*iters)\n",
    "\n",
    "nums = [1, 2, 3, 4, 5, 6, 7, 8, 9, 10]\n",
    "\n",
    "list(better_grouper(nums, 2))"
   ]
  },
  {
   "cell_type": "markdown",
   "metadata": {},
   "source": [
    "### How does this work?"
   ]
  },
  {
   "cell_type": "markdown",
   "metadata": {},
   "source": [
    "- The fuction takes iterators of the list equals to the length of pair.\n",
    "- This iterators are thrn looped over to construct the pair.\n",
    "- Keep in mind that every iterator is referencing to the same object in memory.\n",
    "- So when an element is used from iterator_1 it will also be used iterator_2.\n",
    "- Because at memory level both are referencing to the same object.\n",
    "- This way with each iteration 2 elements are used from the list and returned as tuples."
   ]
  },
  {
   "cell_type": "code",
   "execution_count": 16,
   "metadata": {},
   "outputs": [
    {
     "name": "stdout",
     "output_type": "stream",
     "text": [
      "when you multiply a list with number it repeats the list that many times:\n",
      "\n",
      "[1, 2, 1, 2]\n",
      "\n",
      "Let's create a list of iterator objects for our list:\n",
      "\n",
      "[<list_iterator object at 0x7f240bc895d0>]\n",
      "\n",
      "Multiplying this list by 2 we get 2 iterators referencing to same memory object in a list.\n",
      "\n",
      "[<list_iterator object at 0x7f240bc895d0>, <list_iterator object at 0x7f240bc895d0>]\n",
      "\n",
      "We will use unpacking to get both the iterators in seperate variables:\n",
      "\n",
      "iter object iter_1 id: 139792793245136 \n",
      "iter object iter_2 id: 139792793245136\n",
      "\n",
      "iter_1 is iter_2 = True proves that both are referencing to same memory object\n",
      "\n",
      "\n",
      "Now let's try calling next after zipping this iterators:\n",
      "\n",
      "\n",
      "Calling next: (1, 2)\n",
      "\n",
      "Calling next: (3, 4)\n",
      "\n",
      "Calling next: (5, 6)\n",
      "\n",
      "Calling next: (7, 8)\n",
      "\n",
      "When we call next on zipped iterator it first calls next on iter_1 and then iter_2\n",
      "\n"
     ]
    }
   ],
   "source": [
    "print(\"when you multiply a list with number it repeats the list that many times:\\n\")\n",
    "print([1, 2]*2)\n",
    "\n",
    "print(\"\\nLet's create a list of iterator objects for our list:\\n\")\n",
    "print([iter(nums)])\n",
    "\n",
    "print(\"\\nMultiplying this list by 2 we get 2 iterators referencing to same memory object in a list.\\n\")\n",
    "print([iter(nums)] * 2)\n",
    "\n",
    "print(\"\\nWe will use unpacking to get both the iterators in seperate variables:\\n\")\n",
    "iter_1, iter_2 = [iter(nums)] * 2\n",
    "\n",
    "print(f\"iter object iter_1 id: {id(iter_1)} \\niter object iter_2 id: {id(iter_2)}\")\n",
    "\n",
    "print(f\"\\niter_1 is iter_2 = {iter_1 is iter_2} proves that both are referencing to same memory object\\n\")\n",
    "\n",
    "print(\"\\nNow let's try calling next after zipping this iterators:\\n\")\n",
    "\n",
    "zipped_iterator = zip(iter_1, iter_2)\n",
    "\n",
    "print(f\"\\nCalling next: {next(zipped_iterator)}\")\n",
    "print(f\"\\nCalling next: {next(zipped_iterator)}\")\n",
    "print(f\"\\nCalling next: {next(zipped_iterator)}\")\n",
    "print(f\"\\nCalling next: {next(zipped_iterator)}\")\n",
    "\n",
    "print(\"\\nWhen we call next on zipped iterator it first calls next on iter_1 and then iter_2\\n\")"
   ]
  },
  {
   "cell_type": "markdown",
   "metadata": {},
   "source": [
    "## But what if length of our list is not divisible by the factor n?"
   ]
  },
  {
   "cell_type": "code",
   "execution_count": 17,
   "metadata": {},
   "outputs": [
    {
     "data": {
      "text/plain": [
       "[(1, 2, 3, 4), (5, 6, 7, 8)]"
      ]
     },
     "execution_count": 17,
     "metadata": {},
     "output_type": "execute_result"
    }
   ],
   "source": [
    "list(better_grouper(nums, 4))"
   ]
  },
  {
   "cell_type": "markdown",
   "metadata": {},
   "source": [
    "- Here we are missing 9 and 10 completely.\n",
    "- However in ideal situation it should return them in a seperate tuple.\n",
    "- This can be solved by using zip_longest() from itertools.\n",
    "- let's see how that works."
   ]
  },
  {
   "cell_type": "code",
   "execution_count": 18,
   "metadata": {},
   "outputs": [
    {
     "data": {
      "text/plain": [
       "[(1, 2, 3, 4), (5, 6, 7, 8), (9, 10, None, None)]"
      ]
     },
     "execution_count": 18,
     "metadata": {},
     "output_type": "execute_result"
    }
   ],
   "source": [
    "# redefining better_grouper\n",
    "\n",
    "from itertools import zip_longest\n",
    "\n",
    "def better_grouper(inputs, n):\n",
    "    iters = [iter(inputs)] * n\n",
    "    return zip_longest(*iters)\n",
    "\n",
    "list(better_grouper(nums, 4))"
   ]
  },
  {
   "cell_type": "code",
   "execution_count": null,
   "metadata": {},
   "outputs": [],
   "source": []
  }
 ],
 "metadata": {
  "kernelspec": {
   "display_name": "Python 3 (ipykernel)",
   "language": "python",
   "name": "python3"
  },
  "language_info": {
   "codemirror_mode": {
    "name": "ipython",
    "version": 3
   },
   "file_extension": ".py",
   "mimetype": "text/x-python",
   "name": "python",
   "nbconvert_exporter": "python",
   "pygments_lexer": "ipython3",
   "version": "3.8.10"
  },
  "toc": {
   "base_numbering": 1,
   "nav_menu": {},
   "number_sections": true,
   "sideBar": true,
   "skip_h1_title": false,
   "title_cell": "Table of Contents",
   "title_sidebar": "Contents",
   "toc_cell": false,
   "toc_position": {},
   "toc_section_display": true,
   "toc_window_display": false
  }
 },
 "nbformat": 4,
 "nbformat_minor": 2
}
