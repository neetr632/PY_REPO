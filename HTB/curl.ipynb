{
 "cells": [
  {
   "cell_type": "markdown",
   "metadata": {},
   "source": [
    "**Fetching Raw HTML (Performing a GET Request):**\n",
    "\n",
    "2. curl -i [URL]\n",
    "-------------------------------------\n",
    "3. curl -i https://example.com"
   ]
  },
  {
   "cell_type": "markdown",
   "metadata": {},
   "source": [
    "**curl -i -L google.com**\n",
    "\n",
    "1. HTTP/1.1 301 Moved Permanently\n",
    "2. Location: http://www.google.com/\n",
    "3. Content-Type: text/html; charset=UTF-8\n",
    "4. Content-Security-Policy-Report-Only: object-src 'none';base-uri 'self';script-src 'nonce-qz-tXwKhP8LEexCzY57ocA' 'strict-dynamic'    'report-sample' 'unsafe-eval' 'unsafe-inline' https: http:;report-uri https://csp.withgoogle.com/csp/gws/other-hp\n",
    "5. Date: Wed, 21 Aug 2024 16:05:50 GMT\n",
    "6. Expires: Fri, 20 Sep 2024 16:05:50 GMT\n",
    "7. Cache-Control: public, max-age=2592000\n",
    "8. Server: gws\n",
    "9. Content-Length: 219\n",
    "10. X-XSS-Protection: 0\n",
    "11. X-Frame-Options: SAMEORIGIN\n",
    "--------------------------------------------------------------------------------------------------------------------------------------\n",
    "1. HTTP/1.1 200 OK\n",
    "2. Date: Wed, 21 Aug 2024 16:05:51 GMT\n",
    "3. Expires: -1\n",
    "4. Cache-Control: private, max-age=0\n",
    "5. Content-Type: text/html; charset=ISO-8859-1\n",
    "   Content-Security-Policy-Report-Only: object-src 'none';base-uri 'self';script-src 'nonce-FAZywCbs_S1r4rytT7VNgQ' 'strict-dynamic' 'report-sample' 'unsafe-eval' 'unsafe-inline' https: http:;report-uri https://csp.withgoogle.com/csp/gws/other-hp\n",
    "6. P3P: CP=\"This is not a P3P policy! See g.co/p3phelp for more info.\"\n",
    "7. Server: gws\n",
    "8. X-XSS-Protection: 0\n",
    "9. X-Frame-Options: SAMEORIGIN\n",
    "10. Set-Cookie: AEC=AVYB7coIftdh9OKBgiqF9YEMf3TUUEGGSa6R7OOO5iPjA_BjLr6-6VTw8pg; expires=Mon, 17-Feb-2025 16:05:51 GMT; path=/;       domain=.google.com; Secure; HttpOnly; SameSite=lax\n",
    "11. Set-Cookie:    NID=516=DA6Lnsf5ZwESGSN3B8iUnxeA_7kfu8N0BxNoB51eJvRP2zglkhOo4dAH8EKT5Wb2-UfAf9oWkjw0KLRTDXLxiz3JnlHi2ih3H6DxqDRAztd7muvHKEwpRVWL3KcEHikfuLTMkaRAeJuMtoCm4g4eNm_9SqfU3Yd2XskntSirx3dwhWDFOz0nCa3D; expires=Thu, 20-Feb-2025 16:05:51 GMT; path=/; domain=.google.com; HttpOnly\n",
    "12. Accept-Ranges: none\n",
    "12. Vary: Accept-Encoding\n",
    "13. Transfer-Encoding: chunked\n",
    "\n",
    "<!doctype html><html itemscope=\"\" itemtype=\"http://schema.org/WebPage\" lang=\"en-IN\"><head><meta content=\"text/html; charset=UTF-8\" http-equiv=\"Content-Type\"><meta content=\"/images/branding/googleg/1x/googleg_standard_color_128dp.png\" itemprop=\"image\"><title>Google</title><script nonce=\"FAZywCbs_S1r4rytT7VNgQ\">(function(){var _g={kEI:'XxDGZsz_DZeX4-EPxJnpqAo',kEXPI:'0,3700258,181,510,432,8,89,538567,2872,2891,8349,34679,64288,60057,85641,2,16737,23024,6700,41948,57734,2,2,1,6960,19672,8155,23350,22436,9779,38678,23979,6050,27516,28379,11234,3030,17620,7734,29,13249,14256,13449,13492,15784,11106,15977,5212676,996,127,21,5991286,2841031,319,36,15,1,30,5,7440759,16496230,4043709,16673,43886,3,318,4,1281,3,2124363,23029351,8163,10336,10736,2728,5351,2,40941,35023,16826,5796,15165,8181,154,20561,7986,18894,1835,21669,2483,2,4270,155,2,2482,13503,7736,7042,2097,740,2,2,1251,2605,328,3217,4,3004,16734,2,2937,409,519,4858,5,2526,5634,687,6673,618,504,3,5,47,22,2941,2695,4479,5606,476,5785,581,101,451,213,5401,443,1340,6518,353,1860,2,9,3997,3,5,4562,294,3207,1340,2381,443,122,919,797,182,307,221,2767,1968,2028,459,1624,2914,682,1372,450,6783,3,387,1145,463,1962,134,565,98,2544,94,3146,1835,1612,2,662,866,563,712,59,441,125,496,166,220,177,1549,482,387,158,4,3,567,1807,2,5305,267,3,1918,1365,1184,652,574,894,2,5,2,580,252,286,2,3,493,7,1110,161,918,649,7,316,19,1043,299,3,83,483,54,911,3,31,958,666,1820,85,978,956,15,250,58,213,109,57,176,260,1,133,579,262,119,4,1,6,496,125,183,2,111,607,652,3,1584,206,21,224,777,69,108,434,283,10,88,383,477,3,44,596,153,1110,5,738,2,2,2,3,516,451,484,37,4,993,161,691,68,4,2,3-ved\")?f=a?D(a)||\"\":\"\":f=(f=\n",
    "a.closest(\"[data-ved]\"))?D(f)||\"\":\"\";f=f||\"\";if(a.hasAttribute(\"jsname\"))a=a.getAttribute(\"jsname\");else{var C;a=(C=a.closest(\"[jsname]\"))==null?void 0:C.getAttribute(\"jsname\")}google.log(\"rcm\",\"&ei=\"+c+\"&tgtved=\"+f+\"&jsname=\"+(a||\"\"))}}else F=a,E=[c]}window.document.addEventListener(\"DOMContentLoaded\",function(){document.body.addEventListener(\"click\",G)});}).call(this);</script></body></html>"
   ]
  },
  {
   "cell_type": "markdown",
   "metadata": {},
   "source": [
    "**Fetching HTTP Headers (Getting Server Details):**"
   ]
  },
  {
   "cell_type": "markdown",
   "metadata": {},
   "source": [
    "1. curl -i [URL]\n",
    "2. curl -i https://example.com\n"
   ]
  },
  {
   "cell_type": "markdown",
   "metadata": {},
   "source": [
    "**Following Redirects:**\n",
    "\n",
    "1. If the server redirects you to another location, and you want curl to follow the redirect automatically, you can use the -L option.\n",
    "\n"
   ]
  },
  {
   "cell_type": "markdown",
   "metadata": {},
   "source": [
    "1. curl -L [URL]\n",
    "2. curl -L https://example.com\n"
   ]
  },
  {
   "cell_type": "code",
   "execution_count": 2,
   "metadata": {},
   "outputs": [
    {
     "name": "stdout",
     "output_type": "stream",
     "text": [
      "weadfefse\n"
     ]
    }
   ],
   "source": [
    "string = str(input(\"Enter the string to convert it into lowercase\")).lower()\n",
    "print(string) "
   ]
  },
  {
   "cell_type": "markdown",
   "metadata": {},
   "source": [
    "**To directly fetch the raw code without creating a new_file to store the html code**"
   ]
  },
  {
   "cell_type": "markdown",
   "metadata": {},
   "source": [
    "curl -O inlanefreight.com/index.html"
   ]
  },
  {
   "cell_type": "markdown",
   "metadata": {},
   "source": [
    "**To directly fetch the raw code with creating a new_file to store the html code**"
   ]
  },
  {
   "cell_type": "markdown",
   "metadata": {},
   "source": [
    "curl -o temp.html inlanefreight.com/index.html #small -o is used here to create a new html file"
   ]
  },
  {
   "cell_type": "markdown",
   "metadata": {},
   "source": [
    "**cURL should automatically handle all HTTPS communication standards and perform a secure handshake and then encrypt and decrypt data automatically. However, if we ever contact a website with an invalid SSL certificate or an outdated one, then cURL by default would not proceed with the communication to protect against the earlier mentioned MITM attacks:**"
   ]
  },
  {
   "cell_type": "markdown",
   "metadata": {},
   "source": [
    "curl -k https://inlanefreight.com"
   ]
  },
  {
   "cell_type": "markdown",
   "metadata": {},
   "source": [
    "**SUMMARY OF THE CURLS**"
   ]
  },
  {
   "cell_type": "markdown",
   "metadata": {},
   "source": [
    "1. To fetch raw HTML: curl https://example.com\n",
    "1. To fetch headers only: curl -I https://example.com\n",
    "1. To fetch headers and body: curl -i https://example.com\n",
    "1. To follow redirects: curl -L https://example.com\n",
    "1. To follow bypass SSL certificates: curl -k https://example.com"
   ]
  },
  {
   "cell_type": "markdown",
   "metadata": {},
   "source": [
    "**HTTP Headers**"
   ]
  },
  {
   "cell_type": "markdown",
   "metadata": {},
   "source": [
    "Http headers pass information between the client and the server.  "
   ]
  },
  {
   "cell_type": "markdown",
   "metadata": {},
   "source": [
    "We can divide headers into the following categories:\n",
    "* General Headers\n",
    "* Entity Headers\n",
    "* Request Headers\n",
    "* Response Headers\n",
    "* Security Headers"
   ]
  },
  {
   "cell_type": "markdown",
   "metadata": {},
   "source": [
    "1. **General headers - are used in both HTTP requests and responses. they are contextual and are used to \"describe the message rather than its contents.\"**\n",
    "\n",
    "* Example - Date - Date: Wed, 16 Feb 2022 10:38:44 GMT\n",
    "* Holds the date and time at which the message originated. It's preferred to convert the time to the standard UTC time zone.\n",
    "\n",
    "\n",
    "* Connection - Connection: close \n",
    "* Dictates if the current network connection should stay alive after the request finishes. Two commonly used values for this header are **close** and **keep-alive**. The close value from either the client or server means that they would like to terminate the connection, while the keep-alive header indicates that the connection should remain open to receive more data and input."
   ]
  },
  {
   "cell_type": "markdown",
   "metadata": {},
   "source": [
    "2. **Entity Headers - These headers are used to describe the content (entity) transferred by a message. They are usually found in responses and POST or PUT requests.**\n",
    "\n",
    "* Content-Type\tContent-Type: text/html\t\n",
    "* Used to describe the type of resource being transferred. The value is automatically added by the browsers on the client-side and returned in the server response. The charset field denotes the encoding standard, such as UTF-8."
   ]
  },
  {
   "cell_type": "markdown",
   "metadata": {},
   "source": [
    "3. **Request Headers - The client sends Request Headers in an HTTP transaction. These headers are used in an HTTP request and do not relate to the content of the message.**\n",
    "\n",
    "* Host\tHost: www.inlanefreight.com\t\n",
    "* Used to specify the host being queried for the resource. This can be a domain name or an IP address. HTTP servers can be configured to host different websites, which are revealed based on the hostname. This makes the host header an important enumeration target, as it can indicate the existence of other hosts on the target server."
   ]
  },
  {
   "cell_type": "markdown",
   "metadata": {},
   "source": [
    "4. **Response Headers - Response Headers can be used in an HTTP response and do not relate to the content. Certain response headers such as Age, Location, and Server are used to provide more context about the response.**\n",
    "\n",
    "* Server - Server: Apache/2.2.14 (Win32)"
   ]
  },
  {
   "cell_type": "markdown",
   "metadata": {},
   "source": [
    "**Security Headers - With the increase in the variety of browsers and web-based attacks, defining certain headers that enhanced security was necessary. HTTP Security headers are a class of response headers used to specify certain rules and policies to be followed by the browser while accessing the website.**\n",
    "\n",
    "* Content-Security-Policy - Content-Security-Policy: default-src'self'"
   ]
  },
  {
   "cell_type": "markdown",
   "metadata": {},
   "source": [
    "Summary\n",
    "1. General Headers: Meta-information about the request/response (e.g., Date, Connection).\n",
    "2. Entity Headers: Details about the body of the resource (e.g., Content-Type, Content-Length).\n",
    "3. Request Headers: Client-side details about the request (e.g., User-Agent, Accept).\n",
    "4. Response Headers: Server-side details about the response (e.g., Server, Location).\n",
    "5. Security Headers: Enhance security by enforcing policies (e.g., Strict-Transport-Security, Content-Security-Policy)."
   ]
  }
 ],
 "metadata": {
  "kernelspec": {
   "display_name": "Python 3",
   "language": "python",
   "name": "python3"
  },
  "language_info": {
   "codemirror_mode": {
    "name": "ipython",
    "version": 3
   },
   "file_extension": ".py",
   "mimetype": "text/x-python",
   "name": "python",
   "nbconvert_exporter": "python",
   "pygments_lexer": "ipython3",
   "version": "3.10.13"
  }
 },
 "nbformat": 4,
 "nbformat_minor": 2
}
