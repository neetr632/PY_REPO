import numpy as np 
a = np.array([1,3,5,6,4,64,32])
print(a)