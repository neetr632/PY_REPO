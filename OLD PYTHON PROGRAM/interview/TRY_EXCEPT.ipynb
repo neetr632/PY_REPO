{
 "cells": [
  {
   "cell_type": "code",
   "execution_count": null,
   "metadata": {},
   "outputs": [],
   "source": [
    "try:\n",
    "    user_input = input(\"Enter the number to divide: \")  # Use a different variable name\n",
    "    num = int(user_input)  # Convert user input to an integer\n",
    "    result = 10 / num\n",
    "    print(\"Result:\", result)\n",
    "except ZeroDivisionError:\n",
    "    print(\"Error: Division by zero!\")\n",
    "except ValueError:\n",
    "    print(\"Error: Please enter a valid number.\")\n"
   ]
  },
  {
   "cell_type": "code",
   "execution_count": null,
   "metadata": {},
   "outputs": [],
   "source": [
    "def celsius_to_fahrenheit(celsius):\n",
    "    \"\"\"Convert Celsius to Fahrenheit.\"\"\"\n",
    "    return celsius * 9 / 5 + 32\n",
    "\n",
    "def fahrenheit_to_celsius(fahrenheit):\n",
    "    \"\"\"Convert Fahrenheit to Celsius.\"\"\"\n",
    "    return (fahrenheit - 32) * 5 / 9\n",
    "\n",
    "def main():\n",
    "    try:\n",
    "        # Prompt the user to choose the conversion direction\n",
    "        temptype = input(\"Enter your choice of conversion (C for Celsius to Fahrenheit, F for Fahrenheit to Celsius): \").upper()\n",
    "        if temptype == \"C\":\n",
    "            temperature = float(input(\"Enter the temperature in Celsius: \"))\n",
    "            converted_temperature = celsius_to_fahrenheit(temperature)\n",
    "            print(f\"{temperature}°C is equal to {converted_temperature:.2f}°F\")\n",
    "        elif temptype == \"F\":\n",
    "            temperature = float(input(\"Enter the temperature in Fahrenheit: \"))\n",
    "            converted_temperature = fahrenheit_to_celsius(temperature)\n",
    "            print(f\"{temperature}°F is equal to {converted_temperature:.2f}°C\")\n",
    "        else:\n",
    "            raise ValueError(\"Invalid choice. Please try again with 'C' or 'F'.\")\n",
    "    except ValueError as ve:\n",
    "        print(ve)\n",
    "    finally:\n",
    "        print(\"Cleaning up...\")\n",
    "\n",
    "if __name__ == \"__main__\":\n",
    "    main()\n"
   ]
  },
  {
   "cell_type": "code",
   "execution_count": 10,
   "metadata": {},
   "outputs": [
    {
     "name": "stdout",
     "output_type": "stream",
     "text": [
      "2025\n",
      "175616\n"
     ]
    }
   ],
   "source": [
    "def square(x):\n",
    "    return x**2\n",
    "\n",
    "def cube(y):\n",
    "    return y**3\n",
    "\n",
    "def apply_the_OP(function, value):\n",
    "    return function(value)\n",
    "\n",
    "x = int(input(\"enter the value for the square operation: \"))\n",
    "y = int(input(\"enter the value for the cube operation: \"))\n",
    "\n",
    "result_2 = apply_the_OP(square, y)\n",
    "result_1 = apply_the_OP(cube, x)\n",
    "\n",
    "print(result_2)\n",
    "print(result_1)"
   ]
  },
  {
   "cell_type": "code",
   "execution_count": 16,
   "metadata": {},
   "outputs": [
    {
     "name": "stdout",
     "output_type": "stream",
     "text": [
      "this is a reversed string of string_1:  olleh\n",
      "this is a reversed string of string_2 :  dlrow\n"
     ]
    }
   ],
   "source": [
    "def sayhello(string_1, string_2):\n",
    "    string_1 = string_1[::-1]\n",
    "    string_2 = string_2[::-1]\n",
    "    return string_1, string_2\n",
    "\n",
    "string_1,string_2 = sayhello(\"hello\", \"world\")\n",
    "\n",
    "print(\"this is a reversed string of string_1: \", string_1)\n",
    "print(\"this is a reversed string of string_2 : \", string_2)"
   ]
  },
  {
   "cell_type": "code",
   "execution_count": 11,
   "metadata": {},
   "outputs": [
    {
     "name": "stdout",
     "output_type": "stream",
     "text": [
      "dlrowolleh\n"
     ]
    }
   ],
   "source": [
    "def sayhello(x):\n",
    "    y = x[::-1]\n",
    "    return y\n",
    "\n",
    "\n",
    "def combinedhello(a, b):\n",
    "    return (a + b)\n",
    "\n",
    "\n",
    "result = combinedhello(sayhello(\"world\"),sayhello(\"hello\"))\n",
    "print(result)"
   ]
  },
  {
   "cell_type": "code",
   "execution_count": 13,
   "metadata": {},
   "outputs": [
    {
     "name": "stdout",
     "output_type": "stream",
     "text": [
      "Positional arguments (args): (1, 2, 3)\n",
      "Keyword arguments (kwargs): {'name': 'Alice', 'age': 30}\n",
      "Positional arguments (args): (4, 5, 6)\n",
      "Keyword arguments (kwargs): {'city': 'New York', 'country': 'USA'}\n"
     ]
    }
   ],
   "source": [
    "def example_function(*args, **kwargs):\n",
    "    print(\"Positional arguments (args):\", args)\n",
    "    print(\"Keyword arguments (kwargs):\", kwargs)\n",
    "\n",
    "# Using different types of objects with *args and **kwargs\n",
    "example_function(1, 2, 3, name=\"Alice\", age=30)\n",
    "example_function(*[4, 5, 6], **{\"city\": \"New York\", \"country\": \"USA\"})\n"
   ]
  }
 ],
 "metadata": {
  "kernelspec": {
   "display_name": ".venv",
   "language": "python",
   "name": "python3"
  },
  "language_info": {
   "codemirror_mode": {
    "name": "ipython",
    "version": 3
   },
   "file_extension": ".py",
   "mimetype": "text/x-python",
   "name": "python",
   "nbconvert_exporter": "python",
   "pygments_lexer": "ipython3",
   "version": "3.12.2"
  }
 },
 "nbformat": 4,
 "nbformat_minor": 2
}
