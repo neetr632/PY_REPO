{
 "cells": [
  {
   "cell_type": "code",
   "execution_count": null,
   "metadata": {},
   "outputs": [],
   "source": [
    "from faker import Faker\n",
    "import re\n",
    "fake = Faker()\n",
    "def clean_phone_number(phone_number):\n",
    "    digits = re.sub(r'\\D', '', phone_number)  # Remove non-digit characters\n",
    "    print(type(digits))\n",
    "    if len(digits) >= 10:\n",
    "        return f\"+91{digits[-10:]}\"  # Return last 10 digits with +91 prefix\n",
    "    return phone_number\n",
    "\n",
    "clean_phone_number(fake.phone_number()),"
   ]
  },
  {
   "cell_type": "code",
   "execution_count": null,
   "metadata": {},
   "outputs": [],
   "source": [
    "digits = '0019869840892821'\n",
    "print(digits[-10::])"
   ]
  },
  {
   "cell_type": "code",
   "execution_count": null,
   "metadata": {},
   "outputs": [],
   "source": [
    "import random\n",
    "import string\n",
    "def random_uppercase_string(length):\n",
    "    return ''.join(random.choices(string.ascii_uppercase, k=length))    \n",
    "\n",
    "result = random_uppercase_string(2)\n",
    "print(result)\n",
    "# random.choices(population, weights=None, cum_weights=None, k=1)\n",
    "\n",
    "# population:\n",
    "# Type: Sequence (e.g., list, tuple, string)\n",
    "# Description: The population from which to choose elements. \n",
    "# This can be any iterable that contains the elements you want to choose from.\n",
    "\n",
    "# weights (optional):\n",
    "# Type: Sequence of numbers (e.g., list of floats)\n",
    "# Description: A sequence of weights corresponding to each element in the population. \n",
    "# These weights affect the probability of each element being chosen. \n",
    "# If omitted, all elements have an equal probability of being chosen.\n",
    "\n",
    "# cum_weights (optional):\n",
    "# Type: Sequence of numbers (e.g., list of floats)\n",
    "# Description: A sequence of cumulative weights. \n",
    "# Each element in cum_weights represents the cumulative weight up to that position in the population. \n",
    "# It can be used instead of weights for more precise probability calculations. It must be in non-decreasing order.\n",
    "\n",
    "# k:\n",
    "# Type: Integer\n",
    "# Description: The number of elements to choose. \n",
    "# The result is a list of length k containing elements randomly chosen from the population. The default value is 1.\n"
   ]
  },
  {
   "cell_type": "code",
   "execution_count": 1,
   "metadata": {},
   "outputs": [
    {
     "name": "stdout",
     "output_type": "stream",
     "text": [
      "Excel file 'libraries_use_case.xlsx' has been created.\n"
     ]
    }
   ],
   "source": [
    "import pandas as pd\n",
    "\n",
    "# Define the data\n",
    "data = {\n",
    "    'Library': ['scikit-learn', 'TensorFlow', 'Keras', 'spaCy', 'NLTK', 'Transformers', 'pandas', 'numpy', 'matplotlib', 'seaborn', 'pyap', 'usaddress'],\n",
    "    'Use Case': [\n",
    "        'Training and evaluating machine learning models; feature extraction.',\n",
    "        'Building and training neural networks; deep learning.',\n",
    "        'High-level API for TensorFlow; easier model building and training.',\n",
    "        'Natural Language Processing; named entity recognition for PII.',\n",
    "        'Text processing and additional NLP utilities.',\n",
    "        'Using pre-trained models like BERT for text classification and NER.',\n",
    "        'Data manipulation and preprocessing; handling datasets.',\n",
    "        'Numerical operations; used in data preprocessing and model input.',\n",
    "        'Visualization of data and model results.',\n",
    "        'Advanced data visualization; useful for analyzing model performance.',\n",
    "        'Parsing and detecting addresses in text.',\n",
    "        'Parsing US addresses; useful if address PII is included.'\n",
    "    ]\n",
    "}\n",
    "\n",
    "# Create a DataFrame\n",
    "df = pd.DataFrame(data)\n",
    "\n",
    "# Save the DataFrame to an Excel file\n",
    "df.to_excel('libraries_use_case.xlsx', index=False)\n",
    "\n",
    "print(\"Excel file 'libraries_use_case.xlsx' has been created.\")\n"
   ]
  }
 ],
 "metadata": {
  "kernelspec": {
   "display_name": "Python 3",
   "language": "python",
   "name": "python3"
  },
  "language_info": {
   "codemirror_mode": {
    "name": "ipython",
    "version": 3
   },
   "file_extension": ".py",
   "mimetype": "text/x-python",
   "name": "python",
   "nbconvert_exporter": "python",
   "pygments_lexer": "ipython3",
   "version": "3.10.13"
  }
 },
 "nbformat": 4,
 "nbformat_minor": 2
}
