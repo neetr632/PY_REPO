{
 "cells": [
  {
   "cell_type": "code",
   "execution_count": 56,
   "metadata": {},
   "outputs": [
    {
     "name": "stdout",
     "output_type": "stream",
     "text": [
      "<class 'str'>\n"
     ]
    },
    {
     "data": {
      "text/plain": [
       "('+918999018260',)"
      ]
     },
     "execution_count": 56,
     "metadata": {},
     "output_type": "execute_result"
    }
   ],
   "source": [
    "from faker import Faker\n",
    "import re\n",
    "fake = Faker()\n",
    "def clean_phone_number(phone_number):\n",
    "    digits = re.sub(r'\\D', '', phone_number)  # Remove non-digit characters\n",
    "    print(type(digits))\n",
    "    if len(digits) >= 10:\n",
    "        return f\"+91{digits[-10:]}\"  # Return last 10 digits with +91 prefix\n",
    "    return phone_number\n",
    "\n",
    "clean_phone_number(fake.phone_number()),"
   ]
  },
  {
   "cell_type": "code",
   "execution_count": 60,
   "metadata": {},
   "outputs": [
    {
     "name": "stdout",
     "output_type": "stream",
     "text": [
      "9840892821\n"
     ]
    }
   ],
   "source": [
    "digits = '0019869840892821'\n",
    "print(digits[-10::])"
   ]
  },
  {
   "cell_type": "code",
   "execution_count": 67,
   "metadata": {},
   "outputs": [
    {
     "name": "stdout",
     "output_type": "stream",
     "text": [
      "LM\n"
     ]
    }
   ],
   "source": [
    "import random\n",
    "import string\n",
    "def random_uppercase_string(length):\n",
    "    return ''.join(random.choices(string.ascii_uppercase, k=length))    \n",
    "\n",
    "result = random_uppercase_string(2)\n",
    "print(result)\n",
    "# random.choices(population, weights=None, cum_weights=None, k=1)\n",
    "\n",
    "# population:\n",
    "# Type: Sequence (e.g., list, tuple, string)\n",
    "# Description: The population from which to choose elements. \n",
    "# This can be any iterable that contains the elements you want to choose from.\n",
    "\n",
    "# weights (optional):\n",
    "# Type: Sequence of numbers (e.g., list of floats)\n",
    "# Description: A sequence of weights corresponding to each element in the population. \n",
    "# These weights affect the probability of each element being chosen. \n",
    "# If omitted, all elements have an equal probability of being chosen.\n",
    "\n",
    "# cum_weights (optional):\n",
    "# Type: Sequence of numbers (e.g., list of floats)\n",
    "# Description: A sequence of cumulative weights. \n",
    "# Each element in cum_weights represents the cumulative weight up to that position in the population. \n",
    "# It can be used instead of weights for more precise probability calculations. It must be in non-decreasing order.\n",
    "\n",
    "# k:\n",
    "# Type: Integer\n",
    "# Description: The number of elements to choose. \n",
    "# The result is a list of length k containing elements randomly chosen from the population. The default value is 1.\n"
   ]
  }
 ],
 "metadata": {
  "kernelspec": {
   "display_name": "Python 3",
   "language": "python",
   "name": "python3"
  },
  "language_info": {
   "codemirror_mode": {
    "name": "ipython",
    "version": 3
   },
   "file_extension": ".py",
   "mimetype": "text/x-python",
   "name": "python",
   "nbconvert_exporter": "python",
   "pygments_lexer": "ipython3",
   "version": "3.10.13"
  }
 },
 "nbformat": 4,
 "nbformat_minor": 2
}
